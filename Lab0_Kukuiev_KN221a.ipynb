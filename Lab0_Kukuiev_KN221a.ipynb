{
 "cells": [
  {
   "cell_type": "markdown",
   "id": "fcfa8553-e2cc-460b-bbe5-8460e6882a4e",
   "metadata": {},
   "source": [
    "# Лабораторна робота №0\n",
    "## Основи роботи в середовищі Jupyter Notebook\n",
    "<br /><br/>\n",
    "### Виконав\n",
    "### студент групи КН-221а\n",
    "### Кукуєв Руслан Олександрович\n",
    "### Перевірив\n",
    "### асистент кафедри\n",
    "### Звєрцев Герман Олександрович\n",
    "<br /><br/><br/><br/>\n",
    "## Мета роботи\n",
    "**Ознайомитись з особливістю використання мови Python в середовищі Jupyter Notebook та отримати навички роботи з блокнотом**"
   ]
  },
  {
   "cell_type": "code",
   "execution_count": 1,
   "id": "275e6038-0288-46af-bde8-dce93f0d11c8",
   "metadata": {},
   "outputs": [
    {
     "name": "stdout",
     "output_type": "stream",
     "text": [
      "3\n"
     ]
    }
   ],
   "source": [
    "N = ord(\"R\") % 10 + 1\n",
    "print(N)"
   ]
  },
  {
   "cell_type": "markdown",
   "id": "8ce11042-33ef-47fe-a897-15f708db732f",
   "metadata": {},
   "source": [
    "# Країна: <span style=\"color: green;\">Гайана</span>\n",
    "\n",
    "## Загальна інформація\n",
    "<div style=\"border: 2px solid black; border-radius: 10px; padding: 15px; background-color: green; color: white\">\n",
    "    <p>\n",
    "        Держава в Південній Америці, омивається на півночі Атлантичним океаном, межує на сході із Суринамом, півдні та південному сході з Бразилією, північному заході з Венесуелою. Площа країни 214 969 км². Столиця і найбільше місто — Джорджтаун. Офіційна мова — англійська. На південноамериканському материку Гаяна — єдина англомовна країна і єдиний член британської Співдружності націй.\n",
    "    </p>\n",
    "\n",
    "Площа: <span style=\"color: white\">*214 969 км²*</span><br />\n",
    "Населення: <span style=\"color: white\">*801 194*</span>\n",
    "</div>\n",
    "\n",
    "## Економіка\n",
    "\n",
    "| Галузь господарства      | Відношення до ВВП, % | Участь населення, % |\n",
    "| ----------------------- | -------------------- | ------------------ |\n",
    "| Сільське господарство   | 21,35                | 1,4                |\n",
    "| Промисловість           | 33,74                | 15,10              |\n",
    "| Сфера послуг            | 43,37                | 34,6           | \n",
    "## Wiki\n",
    "[Дізнатися більше про Гайану](https://uk.wikipedia.org/wiki/Гайана)\n",
    " ## Спорт та кухня\n",
    "- Види спорту\n",
    "    - Футбол\n",
    "    - Крікет\n",
    "    - Бокс\n",
    "- Кухня\n",
    "    - Каррі\n",
    "    - Райс і грі\n",
    "    - Ротіоксlockquote>\n",
    "\n",
    "## ТОП-3 визначні місця\n",
    "<ol>\n",
    "    <li>\n",
    "        <p style=\"font-size: 18px; font-weight: bold;\">Водоспад Кайетур</p>\n",
    "        <p style=\"font-size: 14px; font-weight: normal;\">\n",
    "            Висота водоспаду складає 226 метрів, а ширина - 90-105 метрів. Водоспад Кайетур в 3 рази вище, ніж\n",
    "            Ніагарський водоспад, і в 2 рази вище водоспаду Вікторія. Його особливістю вважається унікальна\n",
    "            комбінація великої висоти і великого обсягу. Це один з найпотужніших водоспадів у світі.\n",
    "            Європейці довгий час не знали про існування Кайетур. Його першовідкривачем вважається англійський геолог\n",
    "            Чарльз Браун, який виявив водойму в 1870 році під час однієї зі своїх експедицій по американському\n",
    "            континенту.\n",
    "            Бажаючим відвідати водоспад пропонується два способи досягнення мети: невеликі літаки з Джорджтауна\n",
    "            (існують регулярні рейси, але кількість місць обмежена) або дводенна прогулянка.\n",
    "            Незважаючи на великі розміри, водоспад Кайетур маловідомий в наш час. Пояснюється це важкодоступністю\n",
    "            водоспаду, його віддаленістю від популярних туристичних магістралей, ізоляцією від цивілізації.\n",
    "        </p>\n",
    "        <p style=\"text-align: center;\">\n",
    "            <img src=\"waterfall.jpg\" alt=\"Waterfall\" width=\"600\" height=\"275\" style=\"border: 2px solid green; border-radius: 10px;\" />\n",
    "        </p>\n",
    "    </li>\n",
    "    <li>\n",
    "        <p style=\"font-size: 18px; font-weight: bold;\">Летем</p>\n",
    "        <p style=\"font-size: 14px; font-weight: normal;\">\n",
    "            Летем привертає до себе увагу своїми тихими вуличками, можливістю зробити поїздку в Бразилію і\n",
    "            бразильську Амазонію, але головними його визначними пам'ятками є музей Рупунуні (філія музею\n",
    "            антропології Уолтера Рота в Джорджтаун) його великою колекцією експонатів з історії та культури місцевих\n",
    "            народів, а також знамените Летем-роді. Летем-роді - популярний спортивний і культурний фестиваль.\n",
    "            Навколо Летем можна знайти чимало традиційних для цих місць ранчо, які, крім своєї звичайної діяльності,\n",
    "            займаються екол\n",
    "        </p>\n",
    "        <p style=\"text-align: center;\">\n",
    "            <img src=\"city1.jpg\" alt=\"City1\" width=\"600\" height=\"275\" style=\"border: 2px solid green; border-radius: 10px;\" />\n",
    "        </p>\n",
    "    </li>\n",
    "    <li>\n",
    "        <p style=\"font-size: 18px; font-weight: bold;\">Нью-Амстердам</p>\n",
    "        <p style=\"font-size: 14px; font-weight: normal;\">\n",
    "            Місто розташоване на узбережжі Атлантичного океану на східному березі річки Бербайс. Тут проживає\n",
    "            близько 33 тисяч жителів.\n",
    "            Нью-Амстердам досить маленький, складається з 3 основних доріг і безліч поперечних вулиць. У місті є\n",
    "            багато старих будинків в колоніальному стилі, деякі з яких побудовані ще за часів голландської\n",
    "            колонізації. Головними пам'ятками вважаються будівлю мерії (Таун-Холл), будівля громадського госпіталю,\n",
    "            проста каплиця місії конгрегаціоналістов, християнська церква, а також індіанський храм Ітуні і\n",
    "            процвітаючий ринок.\n",
    "        <p style=\"text-align: center;\">\n",
    "            <img src=\"city2.jpg\" alt=\"City2\" width=\"600\" height=\"275\" style=\"border: 2px solid green; border-radius: 10px;\" />\n",
    "        </p>\n",
    "    </li>\n",
    "</ol>\n"
   ]
  },
  {
   "cell_type": "code",
   "execution_count": 1,
   "id": "aa678193-bc65-4e4a-ae98-aa1cb0b94e13",
   "metadata": {},
   "outputs": [
    {
     "data": {
      "text/html": [
       "<svg xmlns=\"http://www.w3.org/2000/svg\" width=\"300\" height=\"200\" viewBox=\"0 0 1500 1000\">\n",
       "  <rect width=\"1500\" height=\"1000\" fill=\"#007A3D\" />\n",
       "  <polygon points=\"0,0 1600,500 0,1000\" fill=\"#ffffff\" />\n",
       "  <polygon points=\"0,0 1500,500 0,1000\" fill=\"#ffff00\" />\n",
       "  <polygon points=\"0,0 800,500 0,1000\" fill=\"#000000\" />\n",
       "  <polygon points=\"0,0 750,500 0,1000\" fill=\"#C8102E\" />\n",
       "</svg>\n"
      ],
      "text/plain": [
       "<IPython.core.display.HTML object>"
      ]
     },
     "metadata": {},
     "output_type": "display_data"
    }
   ],
   "source": [
    "%%HTML\n",
    "<svg xmlns=\"http://www.w3.org/2000/svg\" width=\"300\" height=\"200\" viewBox=\"0 0 1500 1000\">\n",
    "  <rect width=\"1500\" height=\"1000\" fill=\"#007A3D\" />\n",
    "  <polygon points=\"0,0 1600,500 0,1000\" fill=\"#ffffff\" />\n",
    "  <polygon points=\"0,0 1500,500 0,1000\" fill=\"#ffff00\" />\n",
    "  <polygon points=\"0,0 800,500 0,1000\" fill=\"#000000\" />\n",
    "  <polygon points=\"0,0 750,500 0,1000\" fill=\"#C8102E\" />\n",
    "</svg>"
   ]
  },
  {
   "cell_type": "code",
   "execution_count": 17,
   "id": "e3cf95dc-ff8f-4cac-ab18-5162f442cab1",
   "metadata": {},
   "outputs": [],
   "source": [
    "def find_middle_element(numbers_str):\n",
    "    try:\n",
    "        numbers = [int(num) for num in numbers_str.split()]\n",
    "        sorted_numbers = sorted(numbers)\n",
    "        middle_index = len(sorted_numbers) // 2\n",
    "\n",
    "        if len(sorted_numbers) % 2 == 0:\n",
    "            middle_elements = (sorted_numbers[middle_index - 1], sorted_numbers[middle_index])\n",
    "        else:\n",
    "            middle_elements = sorted_numbers[middle_index]\n",
    "\n",
    "        result = f\"{middle_elements} – це середина відсортованого списку\"\n",
    "        return result\n",
    "    except ValueError:\n",
    "        return \"Помилка: в рядку є не числові значення\"\n",
    "\n",
    "def task_3():\n",
    "    user_input = input(\"Будь ласка, введіть список цілих чисел через пробіл: \")\n",
    "    text = find_middle_element(user_input)\n",
    "    print(text)"
   ]
  },
  {
   "cell_type": "code",
   "execution_count": 12,
   "id": "2971ed3e-42b6-4d00-99c9-8e7aeb092aa9",
   "metadata": {},
   "outputs": [
    {
     "name": "stdin",
     "output_type": "stream",
     "text": [
      "Будь ласка, введіть список цілих чисел через пробіл:  2 4 str 1 7\n"
     ]
    },
    {
     "name": "stdout",
     "output_type": "stream",
     "text": [
      "Помилка: в рядку є неправильні символи\n"
     ]
    }
   ],
   "source": [
    "task_3()"
   ]
  },
  {
   "cell_type": "code",
   "execution_count": 18,
   "id": "3feda3a2-85d9-4156-a1ee-8a0158149c73",
   "metadata": {},
   "outputs": [
    {
     "name": "stdin",
     "output_type": "stream",
     "text": [
      "Будь ласка, введіть список цілих чисел через пробіл:  2 4 5 1 7\n"
     ]
    },
    {
     "name": "stdout",
     "output_type": "stream",
     "text": [
      "4 – це середина відсортованого списку\n"
     ]
    }
   ],
   "source": [
    "task_3()"
   ]
  },
  {
   "cell_type": "code",
   "execution_count": 19,
   "id": "45fef24a-84fa-4e0c-9838-dbd1c82521cf",
   "metadata": {},
   "outputs": [
    {
     "name": "stdin",
     "output_type": "stream",
     "text": [
      "Будь ласка, введіть список цілих чисел через пробіл:  7 3 1 7 4 2 8 2\n"
     ]
    },
    {
     "name": "stdout",
     "output_type": "stream",
     "text": [
      "(3, 4) – це середина відсортованого списку\n"
     ]
    }
   ],
   "source": [
    "task_3()"
   ]
  },
  {
   "cell_type": "markdown",
   "id": "d22dac81-ed54-461e-87ce-8153b2b60650",
   "metadata": {
    "jp-MarkdownHeadingCollapsed": true
   },
   "source": [
    "## Діаграма активності завантаження отриманого файлу на GitHub та застосування nbviewer\n",
    "\n",
    "<p style=\"text-align: center;\"><img src=\"activity_diagram.jpg\" alt=\"Activity diagram\" /></p>\n",
    "\n",
    "<p>\r\n",
    "Після завантаження роботи на Github, було реалізовано можливість поділитися блокнотом через nbviewer <a href=\"https://nbviewer.org/github/Nicel193/Python_Lab0/blob/main/Lab0_Kukuiev_KN221a.ipynb\">за посиланням</a>.\r\n",
    "</\r\n",
    "\n",
    "</p>"
   ]
  },
  {
   "cell_type": "markdown",
   "id": "7833a8fb-4f48-46e7-8076-7e165484849d",
   "metadata": {},
   "source": [
    "## Висновки\n",
    "Під час виконання лабораторної роботи №0 ми отримали важливий досвід роботи в середовищі Jupyter Notebook, що є необхідним інструментом для програмування на Python. Ознайомившись з цим середовищем, ми вивчили основи Markdown і деякі HTML-теги, що важливо для створення та форматування тексту у блокноті.\r\n",
    "\r\n",
    "Особливий інтерес викликав досвід використання nbviewer, який дозволяє надавати доступ до наших блокнотів і їх вмісту без потреби завантажувати саме середовище Jupyter Notebook. Це важливо для спільної роботи та представлення результатів проектів.\r\n",
    "\r\n",
    "Отримані навички та досвід, незважаючи на їхню на перший погляд простоту, є вельми корисними та важливими для подальших кроків у програмуванні на Python. Вони допоможуть нам створювати більш складні та організовані проекти у майбутн.у.**"
   ]
  }
 ],
 "metadata": {
  "kernelspec": {
   "display_name": "Python 3 (ipykernel)",
   "language": "python",
   "name": "python3"
  },
  "language_info": {
   "codemirror_mode": {
    "name": "ipython",
    "version": 3
   },
   "file_extension": ".py",
   "mimetype": "text/x-python",
   "name": "python",
   "nbconvert_exporter": "python",
   "pygments_lexer": "ipython3",
   "version": "3.9.10"
  }
 },
 "nbformat": 4,
 "nbformat_minor": 5
}
